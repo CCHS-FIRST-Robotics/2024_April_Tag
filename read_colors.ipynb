{
 "cells": [
  {
   "cell_type": "code",
   "execution_count": 9,
   "metadata": {},
   "outputs": [],
   "source": [
    "import cv2\n",
    "import numpy as np"
   ]
  },
  {
   "cell_type": "code",
   "execution_count": 20,
   "metadata": {},
   "outputs": [],
   "source": [
    "base_image = cv2.imread(\"ball_sample.jpg\")\n",
    "image = cv2.cvtColor(base_image, cv2.COLOR_BGR2HSV)\n",
    "height, width, channels = image.shape"
   ]
  },
  {
   "cell_type": "code",
   "execution_count": 64,
   "metadata": {},
   "outputs": [
    {
     "data": {
      "text/plain": [
       "array([[ 79,  18, 152],\n",
       "       [ 79,  18, 153],\n",
       "       [ 79,  18, 156],\n",
       "       ...,\n",
       "       [ 82, 201,  38],\n",
       "       [ 82, 207,  37],\n",
       "       [ 82, 212,  36]], dtype=uint8)"
      ]
     },
     "execution_count": 64,
     "metadata": {},
     "output_type": "execute_result"
    }
   ],
   "source": [
    "# create a mask of the image that only looks for colors with the correct hue\n",
    "ball_lower = np.array([79, 0, 0], np.uint8) \n",
    "ball_upper = np.array([82, 255, 255], np.uint8) \n",
    "ball_mask = cv2.inRange(image, ball_lower, ball_upper)\n",
    "masked_img = cv2.bitwise_and(image, image, mask=ball_mask)"
   ]
  },
  {
   "cell_type": "code",
   "execution_count": 65,
   "metadata": {},
   "outputs": [],
   "source": [
    "# go through each pixel in the masked image and put it's hsv value into a list\n",
    "color_values = []\n",
    "\n",
    "for x in range(width):\n",
    "    for y in range(height):\n",
    "        color_values.append(masked_img[y,x])"
   ]
  },
  {
   "cell_type": "code",
   "execution_count": 66,
   "metadata": {},
   "outputs": [
    {
     "data": {
      "text/plain": [
       "array([[ 79,  18, 152],\n",
       "       [ 79,  18, 153],\n",
       "       [ 79,  18, 156],\n",
       "       ...,\n",
       "       [ 82, 201,  38],\n",
       "       [ 82, 207,  37],\n",
       "       [ 82, 212,  36]], dtype=uint8)"
      ]
     },
     "execution_count": 66,
     "metadata": {},
     "output_type": "execute_result"
    }
   ],
   "source": [
    "# get each unique value from the list & remove black\n",
    "color_values_np = np.array(color_values)\n",
    "\n",
    "unique = np.unique(color_values, axis=0, return_counts=False)\n",
    "np.delete(unique, 0, axis=0)"
   ]
  },
  {
   "cell_type": "code",
   "execution_count": 71,
   "metadata": {},
   "outputs": [
    {
     "name": "stdout",
     "output_type": "stream",
     "text": [
      "s max: 220\n",
      "s_min: 0\n",
      "v_max: 157\n",
      "v_min: 0\n"
     ]
    }
   ],
   "source": [
    "# find the largest and smallest s & v values\n",
    "s = []\n",
    "v = []\n",
    "for i in range(len(unique)):\n",
    "    s.append(unique[i,1])\n",
    "    v.append(unique[i,2])\n",
    "\n",
    "s_max = max(s)\n",
    "s_min = min(s)\n",
    "\n",
    "v_max = max(v)\n",
    "v_min = min(v)\n",
    "\n",
    "print(\"s max:\", str(s_max) + \"\\ns_min:\", str(s_min)+ \"\\nv_max:\", str(v_max) + \"\\nv_min:\", v_min)"
   ]
  }
 ],
 "metadata": {
  "kernelspec": {
   "display_name": ".venv",
   "language": "python",
   "name": "python3"
  },
  "language_info": {
   "codemirror_mode": {
    "name": "ipython",
    "version": 3
   },
   "file_extension": ".py",
   "mimetype": "text/x-python",
   "name": "python",
   "nbconvert_exporter": "python",
   "pygments_lexer": "ipython3",
   "version": "3.9.6"
  }
 },
 "nbformat": 4,
 "nbformat_minor": 2
}
